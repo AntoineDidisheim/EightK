{
 "cells": [
  {
   "cell_type": "code",
   "execution_count": 20,
   "metadata": {
    "collapsed": true,
    "ExecuteTime": {
     "end_time": "2024-03-18T09:41:09.703923500Z",
     "start_time": "2024-03-18T09:41:09.550352600Z"
    }
   },
   "outputs": [],
   "source": [
    "import numpy as np\n",
    "import pandas as pd\n",
    "import os\n",
    "from parameters import *\n",
    "from data import *\n",
    "from utils_local.nlp_ticker import *\n",
    "from didipack.utils_didi.ridge import run_efficient_ridge\n",
    "from didipack.trainer.trainer_ridge import TrainerRidge\n",
    "from didipack.trainer.train_splitter import get_start_dates,get_chunks,get_tasks_for_current_node\n",
    "import psutil\n",
    "from train_main import set_ids_to_eight_k_df\n",
    "from experiments_params import get_main_experiments\n",
    "from scipy import stats\n",
    "from matplotlib import pyplot as plt\n",
    "import swifter\n",
    "from tqdm import tqdm\n",
    "import regex as re"
   ]
  },
  {
   "cell_type": "code",
   "execution_count": 21,
   "outputs": [],
   "source": [
    "from sklearn.metrics import confusion_matrix"
   ],
   "metadata": {
    "collapsed": false,
    "ExecuteTime": {
     "end_time": "2024-03-18T09:41:09.749144900Z",
     "start_time": "2024-03-18T09:41:09.732104300Z"
    }
   }
  },
  {
   "cell_type": "code",
   "execution_count": 22,
   "outputs": [],
   "source": [
    "args = didi.parse()\n",
    "par = Params()\n",
    "data = Data(par)"
   ],
   "metadata": {
    "collapsed": false,
    "ExecuteTime": {
     "end_time": "2024-03-18T09:41:09.889385300Z",
     "start_time": "2024-03-18T09:41:09.751144600Z"
    }
   }
  },
  {
   "cell_type": "code",
   "execution_count": 23,
   "outputs": [
    {
     "data": {
      "text/plain": "[]"
     },
     "execution_count": 23,
     "metadata": {},
     "output_type": "execute_result"
    }
   ],
   "source": [
    "#load_dir = r'\\data\\gpfs\\projects\\punim2039\\EightK\\res\\temp\\vec_pred\\logistic_regression\\OPT_125m\\NEWS_SINGLE'\n",
    "#load_dir = r'/Users/ruoqig/punim2039/EightK/res/temp/vec_pred/5e8b285d69edeee2833f1f2aa4d81ef00f787ed5188fcf557a54d04ad73af547/OPT_125m/NEWS_SINGLE/'\n",
    "load_dir =  \"/data/gpfs/projects/punim2119/EightK/res/temp/vec_pred/8b0e40427b0f3e9daae9164fd45d4b39298896a614199baa31ea54ef275a7ac8/OPT_125m/NEWS_SINGLE/\"\n",
    "model_outputs = [os.path.join(load_dir, f) for f in os.listdir(load_dir) if re.match(r'\\d+.p$', f)]\n",
    "model_outputs"
   ],
   "metadata": {
    "collapsed": false,
    "ExecuteTime": {
     "end_time": "2024-03-18T09:41:09.949447300Z",
     "start_time": "2024-03-18T09:41:09.892385700Z"
    }
   }
  },
  {
   "cell_type": "code",
   "execution_count": 24,
   "outputs": [
    {
     "data": {
      "text/plain": "   permno       date ticker    prc        ret    bid    ask  shrout\n0   10001 1993-01-04   GFGC  14.50   0.035714  14.00  14.50  1080.0\n1   10001 1993-01-05   GFGC -14.25  -0.017241  14.00  14.50  1080.0\n2   10001 1993-01-06   GFGC -14.25   0.000000  14.00  14.50  1080.0\n3   10001 1993-01-07   GFGC  14.50   0.017544  14.00  14.50  1080.0\n4   10001 1993-01-08   GFGC  14.50   0.000000  14.00  14.50  1080.0\n5   10001 1993-01-11   GFGC  14.50   0.000000  14.00  14.50  1080.0\n6   10001 1993-01-12   GFGC -14.25  -0.017241  14.00  14.50  1080.0\n7   10001 1993-01-13   GFGC  13.75  -0.035088  13.75  14.25  1080.0\n8   10001 1993-01-14   GFGC  13.75   0.000000  13.75  14.25  1080.0\n9   10001 1993-01-15   GFGC -14.00   0.018182  13.75  14.25  1080.0",
      "text/html": "<div>\n<style scoped>\n    .dataframe tbody tr th:only-of-type {\n        vertical-align: middle;\n    }\n\n    .dataframe tbody tr th {\n        vertical-align: top;\n    }\n\n    .dataframe thead th {\n        text-align: right;\n    }\n</style>\n<table border=\"1\" class=\"dataframe\">\n  <thead>\n    <tr style=\"text-align: right;\">\n      <th></th>\n      <th>permno</th>\n      <th>date</th>\n      <th>ticker</th>\n      <th>prc</th>\n      <th>ret</th>\n      <th>bid</th>\n      <th>ask</th>\n      <th>shrout</th>\n    </tr>\n  </thead>\n  <tbody>\n    <tr>\n      <th>0</th>\n      <td>10001</td>\n      <td>1993-01-04</td>\n      <td>GFGC</td>\n      <td>14.50</td>\n      <td>0.035714</td>\n      <td>14.00</td>\n      <td>14.50</td>\n      <td>1080.0</td>\n    </tr>\n    <tr>\n      <th>1</th>\n      <td>10001</td>\n      <td>1993-01-05</td>\n      <td>GFGC</td>\n      <td>-14.25</td>\n      <td>-0.017241</td>\n      <td>14.00</td>\n      <td>14.50</td>\n      <td>1080.0</td>\n    </tr>\n    <tr>\n      <th>2</th>\n      <td>10001</td>\n      <td>1993-01-06</td>\n      <td>GFGC</td>\n      <td>-14.25</td>\n      <td>0.000000</td>\n      <td>14.00</td>\n      <td>14.50</td>\n      <td>1080.0</td>\n    </tr>\n    <tr>\n      <th>3</th>\n      <td>10001</td>\n      <td>1993-01-07</td>\n      <td>GFGC</td>\n      <td>14.50</td>\n      <td>0.017544</td>\n      <td>14.00</td>\n      <td>14.50</td>\n      <td>1080.0</td>\n    </tr>\n    <tr>\n      <th>4</th>\n      <td>10001</td>\n      <td>1993-01-08</td>\n      <td>GFGC</td>\n      <td>14.50</td>\n      <td>0.000000</td>\n      <td>14.00</td>\n      <td>14.50</td>\n      <td>1080.0</td>\n    </tr>\n    <tr>\n      <th>5</th>\n      <td>10001</td>\n      <td>1993-01-11</td>\n      <td>GFGC</td>\n      <td>14.50</td>\n      <td>0.000000</td>\n      <td>14.00</td>\n      <td>14.50</td>\n      <td>1080.0</td>\n    </tr>\n    <tr>\n      <th>6</th>\n      <td>10001</td>\n      <td>1993-01-12</td>\n      <td>GFGC</td>\n      <td>-14.25</td>\n      <td>-0.017241</td>\n      <td>14.00</td>\n      <td>14.50</td>\n      <td>1080.0</td>\n    </tr>\n    <tr>\n      <th>7</th>\n      <td>10001</td>\n      <td>1993-01-13</td>\n      <td>GFGC</td>\n      <td>13.75</td>\n      <td>-0.035088</td>\n      <td>13.75</td>\n      <td>14.25</td>\n      <td>1080.0</td>\n    </tr>\n    <tr>\n      <th>8</th>\n      <td>10001</td>\n      <td>1993-01-14</td>\n      <td>GFGC</td>\n      <td>13.75</td>\n      <td>0.000000</td>\n      <td>13.75</td>\n      <td>14.25</td>\n      <td>1080.0</td>\n    </tr>\n    <tr>\n      <th>9</th>\n      <td>10001</td>\n      <td>1993-01-15</td>\n      <td>GFGC</td>\n      <td>-14.00</td>\n      <td>0.018182</td>\n      <td>13.75</td>\n      <td>14.25</td>\n      <td>1080.0</td>\n    </tr>\n  </tbody>\n</table>\n</div>"
     },
     "execution_count": 24,
     "metadata": {},
     "output_type": "execute_result"
    }
   ],
   "source": [
    "crsp = data.load_crsp_daily()\n",
    "crsp_sorted = crsp.sort_values(by=['permno', 'date'])\n",
    "crsp_sorted.head(10)"
   ],
   "metadata": {
    "collapsed": false,
    "ExecuteTime": {
     "end_time": "2024-03-18T09:41:23.886648700Z",
     "start_time": "2024-03-18T09:41:09.922394800Z"
    }
   }
  },
  {
   "cell_type": "code",
   "execution_count": 24,
   "outputs": [],
   "source": [],
   "metadata": {
    "collapsed": false,
    "ExecuteTime": {
     "end_time": "2024-03-18T09:41:23.904200300Z",
     "start_time": "2024-03-18T09:41:23.887691700Z"
    }
   }
  },
  {
   "cell_type": "code",
   "execution_count": 25,
   "outputs": [
    {
     "ename": "IndexError",
     "evalue": "list index out of range",
     "output_type": "error",
     "traceback": [
      "\u001B[1;31m---------------------------------------------------------------------------\u001B[0m",
      "\u001B[1;31mIndexError\u001B[0m                                Traceback (most recent call last)",
      "Cell \u001B[1;32mIn[25], line 3\u001B[0m\n\u001B[0;32m      1\u001B[0m \u001B[38;5;66;03m# read df from pickle\u001B[39;00m\n\u001B[0;32m      2\u001B[0m \u001B[38;5;66;03m#date should be in datetime64[ns]\u001B[39;00m\n\u001B[1;32m----> 3\u001B[0m df \u001B[38;5;241m=\u001B[39m pd\u001B[38;5;241m.\u001B[39mread_pickle(\u001B[43mmodel_outputs\u001B[49m\u001B[43m[\u001B[49m\u001B[38;5;241;43m0\u001B[39;49m\u001B[43m]\u001B[49m)\u001B[38;5;241m.\u001B[39mrename(columns\u001B[38;5;241m=\u001B[39m{\u001B[38;5;124m'\u001B[39m\u001B[38;5;124mticker\u001B[39m\u001B[38;5;124m'\u001B[39m:\u001B[38;5;124m'\u001B[39m\u001B[38;5;124mpermno\u001B[39m\u001B[38;5;124m'\u001B[39m})\n\u001B[0;32m      4\u001B[0m df[\u001B[38;5;124m'\u001B[39m\u001B[38;5;124mdate\u001B[39m\u001B[38;5;124m'\u001B[39m] \u001B[38;5;241m=\u001B[39m pd\u001B[38;5;241m.\u001B[39mto_datetime(df[\u001B[38;5;124m'\u001B[39m\u001B[38;5;124mdate\u001B[39m\u001B[38;5;124m'\u001B[39m])\n\u001B[0;32m      5\u001B[0m df\u001B[38;5;241m.\u001B[39mrename(columns\u001B[38;5;241m=\u001B[39m{\u001B[38;5;124m'\u001B[39m\u001B[38;5;124mdate\u001B[39m\u001B[38;5;124m'\u001B[39m: \u001B[38;5;124m'\u001B[39m\u001B[38;5;124mdate_news\u001B[39m\u001B[38;5;124m'\u001B[39m}, inplace\u001B[38;5;241m=\u001B[39m\u001B[38;5;28;01mTrue\u001B[39;00m)\n",
      "\u001B[1;31mIndexError\u001B[0m: list index out of range"
     ]
    }
   ],
   "source": [
    "# read df from pickle\n",
    "#date should be in datetime64[ns]\n",
    "df = pd.read_pickle(model_outputs[0]).rename(columns={'ticker':'permno'})\n",
    "df['date'] = pd.to_datetime(df['date'])\n",
    "df.rename(columns={'date': 'date_news'}, inplace=True)\n",
    "df"
   ],
   "metadata": {
    "collapsed": false,
    "ExecuteTime": {
     "end_time": "2024-03-18T09:41:25.068382100Z",
     "start_time": "2024-03-18T09:41:23.902695500Z"
    }
   }
  },
  {
   "cell_type": "code",
   "execution_count": null,
   "outputs": [],
   "source": [
    "df['accuracy'].mean()"
   ],
   "metadata": {
    "collapsed": false,
    "ExecuteTime": {
     "start_time": "2024-03-18T09:41:25.056111500Z"
    }
   }
  },
  {
   "cell_type": "code",
   "execution_count": null,
   "outputs": [],
   "source": [
    "n_days_ahead = 1\n",
    "\n",
    "print('Creating permno mapping')\n",
    "crsp_grouped = crsp_sorted.groupby('permno')\n",
    "permno_mapping = {}\n",
    "permno_date_to_index_mapping = {}  # New mapping for date to index\n",
    "\n",
    "for permno, group in tqdm(crsp_grouped):\n",
    "    records = group[['date', 'prc', 'ret', 'bid', 'ask', 'shrout']].to_records(index=False)\n",
    "    permno_mapping[permno] = records\n",
    "    permno_date_to_index_mapping[permno] = {date: idx for idx, date in enumerate(group['date'])}\n"
   ],
   "metadata": {
    "collapsed": false,
    "ExecuteTime": {
     "start_time": "2024-03-18T09:41:25.057111700Z"
    }
   }
  },
  {
   "cell_type": "code",
   "execution_count": null,
   "outputs": [],
   "source": [
    "# Function to perform binary search and get nth day return\n",
    "def get_nth_day_return(row):\n",
    "    permno = row['permno']\n",
    "    date_news = row['date_news']\n",
    "\n",
    "    trading_days = permno_mapping.get(permno, None)\n",
    "    date_to_index = permno_date_to_index_mapping.get(permno, {})\n",
    "\n",
    "    if trading_days is not None and date_news in date_to_index:\n",
    "        start_index = date_to_index[date_news]\n",
    "        nth_index = start_index + n_days_ahead\n",
    "\n",
    "        if nth_index < len(trading_days):\n",
    "            nth_day_data = trading_days[nth_index]\n",
    "            return pd.Series({\n",
    "                'date': nth_day_data.date,\n",
    "                'prc': nth_day_data.prc,\n",
    "                'ret': nth_day_data.ret,\n",
    "                'bid': nth_day_data.bid,\n",
    "                'ask': nth_day_data.ask,\n",
    "                'shrout': nth_day_data.shrout\n",
    "            })\n",
    "    # Return default values if conditions are not met\n",
    "    return pd.Series({\n",
    "        'date': pd.NaT,\n",
    "        'prc': None,\n",
    "        'ret': None,\n",
    "        'bid': None,\n",
    "        'ask': None,\n",
    "        'shrout': None\n",
    "    })\n",
    "\n",
    "tqdm.pandas(desc=\"Processing rows\")\n",
    "additional_columns = df.progress_apply(get_nth_day_return, axis=1)\n",
    "for col in ['prc', 'ret', 'bid', 'ask', 'shrout']:\n",
    "    additional_columns[col] = pd.to_numeric(additional_columns[col], errors='coerce')\n",
    "df_merged = pd.concat([df, additional_columns], axis=1)\n",
    "df_merged.rename(columns={'date': 'date_trade'}, inplace=True)\n",
    "df_merged"
   ],
   "metadata": {
    "collapsed": false,
    "ExecuteTime": {
     "start_time": "2024-03-18T09:41:25.059111300Z"
    }
   }
  },
  {
   "cell_type": "code",
   "execution_count": null,
   "outputs": [],
   "source": [
    "df.groupby('y_true')['y_pred_prb'].mean()"
   ],
   "metadata": {
    "collapsed": false,
    "ExecuteTime": {
     "start_time": "2024-03-18T09:41:25.060111900Z"
    }
   }
  },
  {
   "cell_type": "code",
   "execution_count": null,
   "outputs": [],
   "source": [
    "df_grouped =df_merged.groupby(['permno','date_news'])[['ret','y_pred_prb','y_true', 'prc']].mean().reset_index()\n",
    "\n",
    "df_grouped['year'] = df_grouped['date_news'].dt.year\n",
    "print(df_grouped.groupby('year')['y_pred_prb'].mean())\n",
    "df_grouped['tresh'] = df_grouped.groupby('year')['y_pred_prb'].transform('mean')"
   ],
   "metadata": {
    "collapsed": false,
    "ExecuteTime": {
     "start_time": "2024-03-18T09:41:25.061111300Z"
    }
   }
  },
  {
   "cell_type": "code",
   "execution_count": null,
   "outputs": [],
   "source": [
    "df_grouped['pred'] = df_grouped['y_pred_prb']>df_grouped['tresh']\n",
    "# df['pred'] = df['y_pred_prb']>0\n",
    "df_grouped['accuracy']=df_grouped['pred']==df_grouped['y_true']\n",
    "df_grouped['accuracy'].mean()"
   ],
   "metadata": {
    "collapsed": false,
    "ExecuteTime": {
     "start_time": "2024-03-18T09:41:25.063111500Z"
    }
   }
  },
  {
   "cell_type": "code",
   "execution_count": null,
   "outputs": [],
   "source": [
    "confusion_matrix(df_grouped['y_true'], df_grouped['pred'])"
   ],
   "metadata": {
    "collapsed": false,
    "ExecuteTime": {
     "start_time": "2024-03-18T09:41:25.065631Z"
    }
   }
  },
  {
   "cell_type": "code",
   "execution_count": null,
   "outputs": [],
   "source": [
    "df_grouped.groupby(['date_news'])['ret'].mean().cumsum().plot()"
   ],
   "metadata": {
    "collapsed": false,
    "ExecuteTime": {
     "start_time": "2024-03-18T09:41:25.067375700Z"
    }
   }
  },
  {
   "cell_type": "code",
   "execution_count": null,
   "outputs": [],
   "source": [
    "\n",
    "df_grouped.groupby('date_news')['permno'].count().plot()\n",
    "df_grouped['pct']=df_grouped.groupby('date_news')['y_pred_prb'].rank(pct=True)"
   ],
   "metadata": {
    "collapsed": false,
    "ExecuteTime": {
     "start_time": "2024-03-18T09:41:25.068382100Z"
    }
   }
  },
  {
   "cell_type": "code",
   "execution_count": null,
   "outputs": [],
   "source": [
    "df_grouped"
   ],
   "metadata": {
    "collapsed": false,
    "ExecuteTime": {
     "start_time": "2024-03-18T09:41:25.069382300Z"
    }
   }
  },
  {
   "cell_type": "code",
   "execution_count": null,
   "outputs": [],
   "source": [
    "tresh = 0.2\n",
    "df_grouped['pos'] = 1*(df_grouped['pct']>(1-tresh)) - (df_grouped['pct']<=tresh)*1\n",
    "ret=df_grouped.groupby(['date_news','pos'])['ret'].mean().reset_index().pivot(columns='pos',index='date_news',values='ret')\n",
    "ret[0] = ret[1]-ret[-1]\n",
    "ret.cumsum().plot()\n",
    "sh = np.sqrt(252)*(ret.mean()/ret.std()).round(3)\n",
    "plt.title(f'model_index {\"LR\"} sharpe: {np.round(sh[0],3)}')\n",
    "plt.show()"
   ],
   "metadata": {
    "collapsed": false,
    "ExecuteTime": {
     "start_time": "2024-03-18T09:41:25.071382800Z"
    }
   }
  },
  {
   "cell_type": "code",
   "execution_count": null,
   "outputs": [],
   "source": [
    "sh"
   ],
   "metadata": {
    "collapsed": false,
    "ExecuteTime": {
     "start_time": "2024-03-18T09:41:25.071382800Z"
    }
   }
  },
  {
   "cell_type": "code",
   "execution_count": null,
   "outputs": [],
   "source": [
    "# index ret by [1, -1, 0]\n",
    "ret_formated = ret[[1, -1, 0]]\n",
    "sh_formated = np.sqrt(252)*(ret_formated.mean()/ret_formated.std()).round(3)\n",
    "print(\"        \", \"Long\", \"Short\", \"L-S\", sep=\"\\t\")\n",
    "print(\"Return: \", *list((252 * ret_formated.mean()).round(3)), sep=\"\\t\")\n",
    "print(\"Std:    \", *list((np.sqrt(252)*ret_formated.std()).round(3)), sep=\"\\t\")\n",
    "print(\"Sharpe: \", *list(sh_formated.round(3)), sep=\"\\t\")"
   ],
   "metadata": {
    "collapsed": false,
    "ExecuteTime": {
     "start_time": "2024-03-18T09:41:25.072382100Z"
    }
   }
  },
  {
   "cell_type": "code",
   "execution_count": null,
   "outputs": [],
   "source": [
    "df_grouped"
   ],
   "metadata": {
    "collapsed": false,
    "ExecuteTime": {
     "start_time": "2024-03-18T09:41:25.073382500Z"
    }
   }
  },
  {
   "cell_type": "code",
   "execution_count": null,
   "outputs": [],
   "source": [
    "df_grouped.hist('y_pred_prb',bins=100)"
   ],
   "metadata": {
    "collapsed": false,
    "ExecuteTime": {
     "start_time": "2024-03-18T09:41:25.074382100Z"
    }
   }
  },
  {
   "cell_type": "code",
   "execution_count": null,
   "outputs": [],
   "source": [
    "df_grouped"
   ],
   "metadata": {
    "collapsed": false,
    "ExecuteTime": {
     "start_time": "2024-03-18T09:41:25.074887100Z"
    }
   }
  },
  {
   "cell_type": "code",
   "execution_count": null,
   "outputs": [],
   "source": [
    "apple_2019 = df_grouped[df_grouped['permno']==14593]\n",
    "apple_2019['month'] = apple_2019['date_news'].dt.month\n",
    "apple_2019_monthly = apple_2019.groupby('month')['y_pred_prb'].transform('mean')\n",
    "apple_2019_monthly"
   ],
   "metadata": {
    "collapsed": false,
    "ExecuteTime": {
     "end_time": "2024-03-18T09:41:25.093751400Z",
     "start_time": "2024-03-18T09:41:25.076368400Z"
    }
   }
  },
  {
   "cell_type": "code",
   "execution_count": null,
   "outputs": [],
   "source": [
    "apple_2019.groupby('month')['y_pred_prb'].mean().plot()"
   ],
   "metadata": {
    "collapsed": false,
    "ExecuteTime": {
     "start_time": "2024-03-18T09:41:25.076368400Z"
    }
   }
  },
  {
   "cell_type": "code",
   "execution_count": null,
   "outputs": [],
   "source": [
    "apple_2019.plot('date_news','y_pred_prb')"
   ],
   "metadata": {
    "collapsed": false,
    "ExecuteTime": {
     "start_time": "2024-03-18T09:41:25.078369600Z"
    }
   }
  }
 ],
 "metadata": {
  "kernelspec": {
   "display_name": "Python 3",
   "language": "python",
   "name": "python3"
  },
  "language_info": {
   "codemirror_mode": {
    "name": "ipython",
    "version": 2
   },
   "file_extension": ".py",
   "mimetype": "text/x-python",
   "name": "python",
   "nbconvert_exporter": "python",
   "pygments_lexer": "ipython2",
   "version": "2.7.6"
  }
 },
 "nbformat": 4,
 "nbformat_minor": 0
}
