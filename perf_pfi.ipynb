{
 "cells": [
  {
   "cell_type": "code",
   "execution_count": 17,
   "metadata": {
    "ExecuteTime": {
     "end_time": "2024-03-07T11:29:11.802402Z",
     "start_time": "2024-03-07T11:29:11.289641Z"
    }
   },
   "outputs": [],
   "source": [
    "from train_tf import *\n",
    "from tensorflow.keras.callbacks import TensorBoard\n",
    "from tensorflow.keras.models import load_model\n",
    "from tensorflow.keras import regularizers\n",
    "from parameters import *\n",
    "import socket\n",
    "import tensorflow as tf\n",
    "import shap\n",
    "\n",
    "import datetime\n",
    "import os\n",
    "\n",
    "# Calculate PFI\n",
    "import numpy as np\n",
    "from sklearn.inspection import permutation_importance\n",
    "from sklearn.metrics import accuracy_score"
   ]
  },
  {
   "cell_type": "code",
   "execution_count": 9,
   "outputs": [
    {
     "data": {
      "text/plain": "['/Users/ruoqig/punim2039/EightK/res/temp/vec_pred/8f0a05c1bb38a954d7defbe0ae7e0fb3725f1c97236de7c82f8f002924b05c2e/OPT_125m/NEWS_SINGLE/2014.p_model.keras',\n '/Users/ruoqig/punim2039/EightK/res/temp/vec_pred/8f0a05c1bb38a954d7defbe0ae7e0fb3725f1c97236de7c82f8f002924b05c2e/OPT_125m/NEWS_SINGLE/2013.p_model.keras',\n '/Users/ruoqig/punim2039/EightK/res/temp/vec_pred/8f0a05c1bb38a954d7defbe0ae7e0fb3725f1c97236de7c82f8f002924b05c2e/OPT_125m/NEWS_SINGLE/2017.p_model.keras',\n '/Users/ruoqig/punim2039/EightK/res/temp/vec_pred/8f0a05c1bb38a954d7defbe0ae7e0fb3725f1c97236de7c82f8f002924b05c2e/OPT_125m/NEWS_SINGLE/2018.p_model.keras',\n '/Users/ruoqig/punim2039/EightK/res/temp/vec_pred/8f0a05c1bb38a954d7defbe0ae7e0fb3725f1c97236de7c82f8f002924b05c2e/OPT_125m/NEWS_SINGLE/2016.p_model.keras',\n '/Users/ruoqig/punim2039/EightK/res/temp/vec_pred/8f0a05c1bb38a954d7defbe0ae7e0fb3725f1c97236de7c82f8f002924b05c2e/OPT_125m/NEWS_SINGLE/2012.p_model.keras',\n '/Users/ruoqig/punim2039/EightK/res/temp/vec_pred/8f0a05c1bb38a954d7defbe0ae7e0fb3725f1c97236de7c82f8f002924b05c2e/OPT_125m/NEWS_SINGLE/2015.p_model.keras']"
     },
     "execution_count": 9,
     "metadata": {},
     "output_type": "execute_result"
    }
   ],
   "source": [
    "# Adjust the path to where your model is stored\n",
    "load_dir ='/Users/ruoqig/punim2039/EightK/res/temp/vec_pred/8f0a05c1bb38a954d7defbe0ae7e0fb3725f1c97236de7c82f8f002924b05c2e/OPT_125m/NEWS_SINGLE/'\n",
    "model_outputs = [os.path.join(load_dir, f) for f in os.listdir(load_dir) if re.match(r'\\d+.p_model.keras$', f)]\n",
    "model_outputs"
   ],
   "metadata": {
    "collapsed": false,
    "ExecuteTime": {
     "end_time": "2024-03-07T11:02:16.241394Z",
     "start_time": "2024-03-07T11:02:16.223662Z"
    }
   }
  },
  {
   "cell_type": "code",
   "execution_count": 13,
   "outputs": [],
   "source": [
    "# Load the optimized model\n",
    "model = tf.keras.models.load_model(model_outputs[0])"
   ],
   "metadata": {
    "collapsed": false,
    "ExecuteTime": {
     "end_time": "2024-03-07T11:04:48.183808Z",
     "start_time": "2024-03-07T11:04:48.109811Z"
    }
   }
  },
  {
   "cell_type": "code",
   "execution_count": 2,
   "outputs": [
    {
     "name": "stdout",
     "output_type": "stream",
     "text": [
      "START WORKING ON  7\n",
      "comb 8 / 264\n",
      "/data/gpfs/projects/punim2119/EightK/res/temp/vec_pred/d7cc8fc49ceec47bf5ac309008d70a2ed2e1e7df992a46af4c24ecdaf9a71c85/OPT_125m/NEWS_SINGLE/\n",
      "save_name 2019.p already_processed []\n",
      "tensorboard --logdir=C:\\Users\\nxcle\\repo\\EightK\\logs\\fit\\20240129-234353\n",
      "Preprocessing time 0.01687 min\n"
     ]
    }
   ],
   "source": [
    "\"\"\"\n",
    "Training the model.\n",
    "\"\"\"\n",
    "par = get_main_experiments(7, train_gpu=True, tensorboard=True)\n",
    "par.enc.opt_model_type = OptModelType.OPT_125m\n",
    "par.enc.news_source = NewsSource.NEWS_SINGLE\n",
    "\n",
    "# Training args\n",
    "par.train.use_tf_models = True\n",
    "par.train.l1_ratio = [0.5]\n",
    "par.train.batch_size = 128\n",
    "par.train.monitor_metric = 'val_auc'\n",
    "par.train.patience = 3\n",
    "par.train.max_epoch = 3\n",
    "par.train.abny = False\n",
    "\n",
    "# par.train.T_train = 1\n",
    "\n",
    "\n",
    "# Skip Normalisation\n",
    "# par.train.norm = None\n",
    "\n",
    "start = time.time()\n",
    "\n",
    "temp_save_dir = par.get_res_dir()\n",
    "print(temp_save_dir, flush=True)\n",
    "already_processed = os.listdir(temp_save_dir)\n",
    "save_name = f'{par.grid.year_id}.p'\n",
    "print('save_name', save_name, \"already_processed\", already_processed)\n",
    "if save_name in already_processed:\n",
    "    print(f'Already processed {save_name}', flush=True)\n",
    "else:\n",
    "    trainer = PipelineTrainer(par)\n",
    "    trainer.def_create_the_datasets(\n",
    "        filter_func=lambda x: 'mean' in x.split('/')[-1].split('_'),  # filter by 'mean' in file name\n",
    "    )\n",
    "    print('Preprocessing time', np.round((time.time() - start) / 60, 5), 'min', flush=True)\n",
    "\n",
    "model = trainer.train_model(tr_data=trainer.train_val_dataset, val_data=None, reg_to_use=tf.keras.regularizers.l1_l2(0.001, 0.001))\n",
    "\n",
    "model1_evaluation_results_val = model.evaluate(\n",
    "    trainer.val_dataset,\n",
    "    return_dict=True\n",
    ")\n",
    "\n",
    "model1_evaluation_results_test = model.evaluate(\n",
    "    trainer.test_dataset,\n",
    "    return_dict=True\n",
    ")\n",
    "model1_evaluation_results_test\n",
    "\n",
    "trainer.model = model\n",
    "df = trainer.get_prediction_on_test_sample()\n",
    "df.to_pickle(temp_save_dir + save_name)\n",
    "par.save(temp_save_dir)"
   ],
   "metadata": {
    "collapsed": false
   }
  },
  {
   "cell_type": "code",
   "execution_count": 15,
   "outputs": [
    {
     "name": "stdout",
     "output_type": "stream",
     "text": [
      "START WORKING ON  7\n",
      "comb 8 / 264\n",
      "/Users/ruoqig/punim2039/EightK/res/temp/vec_pred/d7cc8fc49ceec47bf5ac309008d70a2ed2e1e7df992a46af4c24ecdaf9a71c85/OPT_125m/NEWS_SINGLE/\n",
      "save_name 2019.p already_processed []\n",
      "tensorboard --logdir=/Users/ruoqig/Library/CloudStorage/OneDrive-TheUniversityofMelbourne/coding-projects/phd/antoine/EightK/logs/fit/20240307-221048\n",
      "Preprocessing time 0.00266 min\n"
     ]
    },
    {
     "name": "stderr",
     "output_type": "stream",
     "text": [
      "2024-03-07 22:10:48.920211: I external/local_tsl/tsl/profiler/lib/profiler_session.cc:104] Profiler session initializing.\n",
      "2024-03-07 22:10:48.920224: I external/local_tsl/tsl/profiler/lib/profiler_session.cc:119] Profiler session started.\n",
      "2024-03-07 22:10:48.921133: I external/local_tsl/tsl/profiler/lib/profiler_session.cc:131] Profiler session tear down.\n"
     ]
    },
    {
     "ename": "NameError",
     "evalue": "name 'regularizers' is not defined",
     "output_type": "error",
     "traceback": [
      "\u001B[0;31m---------------------------------------------------------------------------\u001B[0m",
      "\u001B[0;31mNameError\u001B[0m                                 Traceback (most recent call last)",
      "Cell \u001B[0;32mIn[15], line 32\u001B[0m\n\u001B[1;32m     27\u001B[0m trainer\u001B[38;5;241m.\u001B[39mdef_create_the_datasets(\n\u001B[1;32m     28\u001B[0m     filter_func\u001B[38;5;241m=\u001B[39m\u001B[38;5;28;01mlambda\u001B[39;00m x: \u001B[38;5;124m'\u001B[39m\u001B[38;5;124mmean\u001B[39m\u001B[38;5;124m'\u001B[39m \u001B[38;5;129;01min\u001B[39;00m x\u001B[38;5;241m.\u001B[39msplit(\u001B[38;5;124m'\u001B[39m\u001B[38;5;124m/\u001B[39m\u001B[38;5;124m'\u001B[39m)[\u001B[38;5;241m-\u001B[39m\u001B[38;5;241m1\u001B[39m]\u001B[38;5;241m.\u001B[39msplit(\u001B[38;5;124m'\u001B[39m\u001B[38;5;124m_\u001B[39m\u001B[38;5;124m'\u001B[39m),  \u001B[38;5;66;03m# Adjust based on your datasets\u001B[39;00m\n\u001B[1;32m     29\u001B[0m )\n\u001B[1;32m     30\u001B[0m \u001B[38;5;28mprint\u001B[39m(\u001B[38;5;124m'\u001B[39m\u001B[38;5;124mPreprocessing time\u001B[39m\u001B[38;5;124m'\u001B[39m, np\u001B[38;5;241m.\u001B[39mround((time\u001B[38;5;241m.\u001B[39mtime() \u001B[38;5;241m-\u001B[39m start) \u001B[38;5;241m/\u001B[39m \u001B[38;5;241m60\u001B[39m, \u001B[38;5;241m5\u001B[39m), \u001B[38;5;124m'\u001B[39m\u001B[38;5;124mmin\u001B[39m\u001B[38;5;124m'\u001B[39m, flush\u001B[38;5;241m=\u001B[39m\u001B[38;5;28;01mTrue\u001B[39;00m)\n\u001B[0;32m---> 32\u001B[0m model \u001B[38;5;241m=\u001B[39m trainer\u001B[38;5;241m.\u001B[39mtrain_model(tr_data\u001B[38;5;241m=\u001B[39mtrainer\u001B[38;5;241m.\u001B[39mtrain_val_dataset, val_data\u001B[38;5;241m=\u001B[39m\u001B[38;5;28;01mNone\u001B[39;00m, reg_to_use\u001B[38;5;241m=\u001B[39m\u001B[43mregularizers\u001B[49m\u001B[38;5;241m.\u001B[39ml1_l2(\u001B[38;5;241m0.001\u001B[39m, \u001B[38;5;241m0.001\u001B[39m))\n\u001B[1;32m     34\u001B[0m \u001B[38;5;66;03m# Evaluate the model on validation and test datasets\u001B[39;00m\n\u001B[1;32m     35\u001B[0m model1_evaluation_results_val \u001B[38;5;241m=\u001B[39m model\u001B[38;5;241m.\u001B[39mevaluate(trainer\u001B[38;5;241m.\u001B[39mval_dataset, return_dict\u001B[38;5;241m=\u001B[39m\u001B[38;5;28;01mTrue\u001B[39;00m)\n",
      "\u001B[0;31mNameError\u001B[0m: name 'regularizers' is not defined"
     ]
    }
   ],
   "source": [],
   "metadata": {
    "collapsed": false,
    "ExecuteTime": {
     "end_time": "2024-03-07T11:10:49.119901Z",
     "start_time": "2024-03-07T11:10:48.913532Z"
    }
   }
  },
  {
   "cell_type": "code",
   "execution_count": null,
   "outputs": [],
   "source": [],
   "metadata": {
    "collapsed": false
   }
  },
  {
   "cell_type": "code",
   "execution_count": null,
   "outputs": [],
   "source": [],
   "metadata": {
    "collapsed": false
   }
  }
 ],
 "metadata": {
  "kernelspec": {
   "display_name": "Python 3",
   "language": "python",
   "name": "python3"
  },
  "language_info": {
   "codemirror_mode": {
    "name": "ipython",
    "version": 3
   },
   "file_extension": ".py",
   "mimetype": "text/x-python",
   "name": "python",
   "nbconvert_exporter": "python",
   "pygments_lexer": "ipython3",
   "version": "3.10.13"
  }
 },
 "nbformat": 4,
 "nbformat_minor": 2
}
